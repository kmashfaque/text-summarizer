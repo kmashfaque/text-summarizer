{
 "cells": [
  {
   "cell_type": "code",
   "execution_count": 1,
   "metadata": {},
   "outputs": [],
   "source": [
    "import os"
   ]
  },
  {
   "cell_type": "code",
   "execution_count": 2,
   "metadata": {},
   "outputs": [
    {
     "data": {
      "text/plain": [
       "'c:\\\\Users\\\\HP\\\\Desktop\\\\text sumarizer\\\\research'"
      ]
     },
     "execution_count": 2,
     "metadata": {},
     "output_type": "execute_result"
    }
   ],
   "source": [
    "%pwd"
   ]
  },
  {
   "cell_type": "code",
   "execution_count": 4,
   "metadata": {},
   "outputs": [],
   "source": [
    "os.chdir(\"../\")"
   ]
  },
  {
   "cell_type": "code",
   "execution_count": 5,
   "metadata": {},
   "outputs": [
    {
     "data": {
      "text/plain": [
       "'c:\\\\Users\\\\HP\\\\Desktop\\\\text sumarizer'"
      ]
     },
     "execution_count": 5,
     "metadata": {},
     "output_type": "execute_result"
    }
   ],
   "source": [
    "%pwd"
   ]
  },
  {
   "cell_type": "code",
   "execution_count": 29,
   "metadata": {},
   "outputs": [],
   "source": [
    "from dataclasses import dataclass\n",
    "from pathlib import Path\n",
    "\n",
    "@dataclass(frozen=True)\n",
    "class ModelTrainerConfig:\n",
    "    root_dir:Path\n",
    "    data_path:Path\n",
    "    model_ckpt:Path\n",
    "    num_train_epochs:int\n",
    "    warmup_steps:int\n",
    "    per_device_train_batch_size:int\n",
    "    weight_decay:float\n",
    "    logging_steps:int\n",
    "    evaluation_strategy: str\n",
    "    eval_steps:int\n",
    "    save_steps:float\n",
    "    gradient_accumulation_steps:int"
   ]
  },
  {
   "cell_type": "code",
   "execution_count": 30,
   "metadata": {},
   "outputs": [],
   "source": [
    "from textSummarizer.constants import *\n",
    "from textSummarizer.utils.common import read_yaml, create_directories\n"
   ]
  },
  {
   "cell_type": "code",
   "execution_count": 31,
   "metadata": {},
   "outputs": [],
   "source": [
    "class Configuration:\n",
    "    def __init__(\n",
    "            self,\n",
    "            config_filepath=CONFIG_FILE_PATH,\n",
    "            params_filepath=PARAMS_FILE_PATH):\n",
    "\n",
    "        self.config = read_yaml(config_filepath)\n",
    "        self.params = read_yaml(params_filepath)\n",
    "\n",
    "        create_directories([self.config.artifacts_root])\n",
    "\n",
    "    def get_model_trainer_config(self) -> ModelTrainerConfig:\n",
    "        config = self.config.model_trainer\n",
    "        params = self.params.TrainingArguments\n",
    "\n",
    "        create_directories([config.root_dir])\n",
    "\n",
    "        model_trainer_config = ModelTrainerConfig(\n",
    "            root_dir=config.root_dir,\n",
    "            data_path=config.data_path,\n",
    "            model_ckpt=config.model_ckpt,\n",
    "            num_train_epochs=params.num_train_epochs,\n",
    "            warmup_steps=params.warmup_steps,\n",
    "            per_device_train_batch_size=params.per_device_train_batch_size,\n",
    "            weight_decay=params.weight_decay,\n",
    "            logging_steps=params.logging_steps,\n",
    "            evaluation_strategy=params.evaluation_strategy,\n",
    "            eval_steps=params.eval_steps,\n",
    "            save_steps=params.save_steps,\n",
    "            gradient_accumulation_steps=params.gradient_accumulation_steps\n",
    "        )\n",
    "\n",
    "        return model_trainer_config\n"
   ]
  },
  {
   "cell_type": "code",
   "execution_count": 32,
   "metadata": {},
   "outputs": [],
   "source": [
    "from transformers import TrainingArguments, Trainer\n",
    "from transformers import DataCollatorForSeq2Seq\n",
    "from transformers import AutoModelForSeq2SeqLM, AutoTokenizer\n",
    "from datasets import load_dataset, load_from_disk\n",
    "import torch\n"
   ]
  },
  {
   "cell_type": "code",
   "execution_count": 33,
   "metadata": {},
   "outputs": [],
   "source": [
    "class ModelTrainer:\n",
    "    def __init__(self, config: ModelTrainerConfig):\n",
    "        self.config = config\n",
    "\n",
    "\n",
    "    \n",
    "    def train(self):\n",
    "        device = \"cuda\" if torch.cuda.is_available() else \"cpu\"\n",
    "        tokenizer = AutoTokenizer.from_pretrained(self.config.model_ckpt)\n",
    "        model_pegasus = AutoModelForSeq2SeqLM.from_pretrained(self.config.model_ckpt).to(device)\n",
    "        seq2seq_data_collator = DataCollatorForSeq2Seq(tokenizer, model=model_pegasus)\n",
    "        \n",
    "        #loading data \n",
    "        dataset_samsum_pt = load_from_disk(self.config.data_path)\n",
    "\n",
    "        trainer_args = TrainingArguments(\n",
    "            output_dir=self.config.root_dir, num_train_epochs=self.config.num_train_epochs, warmup_steps=self.config.warmup_steps,\n",
    "            per_device_train_batch_size=self.config.per_device_train_batch_size, per_device_eval_batch_size=self.config.per_device_train_batch_size,\n",
    "            weight_decay=self.config.weight_decay, logging_steps=self.config.logging_steps,\n",
    "            evaluation_strategy=self.config.evaluation_strategy, eval_steps=self.config.eval_steps, save_steps=1e6,\n",
    "            gradient_accumulation_steps=self.config.gradient_accumulation_steps\n",
    "        ) \n",
    "\n",
    "\n",
    "        # trainer_args = TrainingArguments(\n",
    "        #     output_dir=self.config.root_dir, num_train_epochs=1, warmup_steps=500,\n",
    "        #     per_device_train_batch_size=1, per_device_eval_batch_size=1,\n",
    "        #     weight_decay=0.01, logging_steps=10,\n",
    "        #     evaluation_strategy='steps', eval_steps=500, save_steps=1e6,\n",
    "        #     gradient_accumulation_steps=16\n",
    "        # ) \n",
    "\n",
    "        trainer = Trainer(model=model_pegasus, args=trainer_args,\n",
    "                  tokenizer=tokenizer, data_collator=seq2seq_data_collator,\n",
    "                  train_dataset=dataset_samsum_pt[\"train\"], \n",
    "                  eval_dataset=dataset_samsum_pt[\"validation\"])\n",
    "        \n",
    "        trainer.train()\n",
    "\n",
    "        ## Save model\n",
    "        model_pegasus.save_pretrained(os.path.join(self.config.root_dir,\"pegasus-samsum-model\"))\n",
    "        ## Save tokenizer\n",
    "        tokenizer.save_pretrained(os.path.join(self.config.root_dir,\"tokenizer\"))"
   ]
  },
  {
   "cell_type": "code",
   "execution_count": 36,
   "metadata": {},
   "outputs": [
    {
     "name": "stdout",
     "output_type": "stream",
     "text": [
      "[2023-06-09 22:10:21,467: INFO: common:yaml file: config\\config.yaml loaded successfully]\n",
      "[2023-06-09 22:10:21,484: INFO: common:yaml file: params.yaml loaded successfully]\n",
      "[2023-06-09 22:10:21,491: INFO: common:created directory at: artifacts]\n",
      "[2023-06-09 22:10:21,491: INFO: common:created directory at: artifacts/model_trainer]\n"
     ]
    },
    {
     "name": "stderr",
     "output_type": "stream",
     "text": [
      "Downloading pytorch_model.bin:  41%|████▏     | 944M/2.28G [04:30<06:22, 3.48MB/s]\n",
      "Downloading pytorch_model.bin:   0%|          | 0.00/2.28G [00:00<?, ?B/s]"
     ]
    },
    {
     "ename": "ChunkedEncodingError",
     "evalue": "(\"Connection broken: ConnectionResetError(10054, 'An existing connection was forcibly closed by the remote host', None, 10054, None)\", ConnectionResetError(10054, 'An existing connection was forcibly closed by the remote host', None, 10054, None))",
     "output_type": "error",
     "traceback": [
      "\u001b[1;31m---------------------------------------------------------------------------\u001b[0m",
      "\u001b[1;31mConnectionResetError\u001b[0m                      Traceback (most recent call last)",
      "File \u001b[1;32m~\\Anaconda3\\envs\\textS\\lib\\site-packages\\urllib3\\response.py:444\u001b[0m, in \u001b[0;36mHTTPResponse._error_catcher\u001b[1;34m(self)\u001b[0m\n\u001b[0;32m    <a href='file:///c%3A/Users/HP/Anaconda3/envs/textS/lib/site-packages/urllib3/response.py?line=442'>443</a>\u001b[0m \u001b[39mtry\u001b[39;00m:\n\u001b[1;32m--> <a href='file:///c%3A/Users/HP/Anaconda3/envs/textS/lib/site-packages/urllib3/response.py?line=443'>444</a>\u001b[0m     \u001b[39myield\u001b[39;00m\n\u001b[0;32m    <a href='file:///c%3A/Users/HP/Anaconda3/envs/textS/lib/site-packages/urllib3/response.py?line=445'>446</a>\u001b[0m \u001b[39mexcept\u001b[39;00m SocketTimeout:\n\u001b[0;32m    <a href='file:///c%3A/Users/HP/Anaconda3/envs/textS/lib/site-packages/urllib3/response.py?line=446'>447</a>\u001b[0m     \u001b[39m# FIXME: Ideally we'd like to include the url in the ReadTimeoutError but\u001b[39;00m\n\u001b[0;32m    <a href='file:///c%3A/Users/HP/Anaconda3/envs/textS/lib/site-packages/urllib3/response.py?line=447'>448</a>\u001b[0m     \u001b[39m# there is yet no clean way to get at it from this context.\u001b[39;00m\n",
      "File \u001b[1;32m~\\Anaconda3\\envs\\textS\\lib\\site-packages\\urllib3\\response.py:567\u001b[0m, in \u001b[0;36mHTTPResponse.read\u001b[1;34m(self, amt, decode_content, cache_content)\u001b[0m\n\u001b[0;32m    <a href='file:///c%3A/Users/HP/Anaconda3/envs/textS/lib/site-packages/urllib3/response.py?line=565'>566</a>\u001b[0m \u001b[39mwith\u001b[39;00m \u001b[39mself\u001b[39m\u001b[39m.\u001b[39m_error_catcher():\n\u001b[1;32m--> <a href='file:///c%3A/Users/HP/Anaconda3/envs/textS/lib/site-packages/urllib3/response.py?line=566'>567</a>\u001b[0m     data \u001b[39m=\u001b[39m \u001b[39mself\u001b[39;49m\u001b[39m.\u001b[39;49m_fp_read(amt) \u001b[39mif\u001b[39;00m \u001b[39mnot\u001b[39;00m fp_closed \u001b[39melse\u001b[39;00m \u001b[39mb\u001b[39m\u001b[39m\"\u001b[39m\u001b[39m\"\u001b[39m\n\u001b[0;32m    <a href='file:///c%3A/Users/HP/Anaconda3/envs/textS/lib/site-packages/urllib3/response.py?line=567'>568</a>\u001b[0m     \u001b[39mif\u001b[39;00m amt \u001b[39mis\u001b[39;00m \u001b[39mNone\u001b[39;00m:\n",
      "File \u001b[1;32m~\\Anaconda3\\envs\\textS\\lib\\site-packages\\urllib3\\response.py:525\u001b[0m, in \u001b[0;36mHTTPResponse._fp_read\u001b[1;34m(self, amt)\u001b[0m\n\u001b[0;32m    <a href='file:///c%3A/Users/HP/Anaconda3/envs/textS/lib/site-packages/urllib3/response.py?line=523'>524</a>\u001b[0m     chunk_amt \u001b[39m=\u001b[39m max_chunk_amt\n\u001b[1;32m--> <a href='file:///c%3A/Users/HP/Anaconda3/envs/textS/lib/site-packages/urllib3/response.py?line=524'>525</a>\u001b[0m data \u001b[39m=\u001b[39m \u001b[39mself\u001b[39;49m\u001b[39m.\u001b[39;49m_fp\u001b[39m.\u001b[39;49mread(chunk_amt)\n\u001b[0;32m    <a href='file:///c%3A/Users/HP/Anaconda3/envs/textS/lib/site-packages/urllib3/response.py?line=525'>526</a>\u001b[0m \u001b[39mif\u001b[39;00m \u001b[39mnot\u001b[39;00m data:\n",
      "File \u001b[1;32m~\\Anaconda3\\envs\\textS\\lib\\http\\client.py:459\u001b[0m, in \u001b[0;36mHTTPResponse.read\u001b[1;34m(self, amt)\u001b[0m\n\u001b[0;32m    <a href='file:///c%3A/Users/HP/Anaconda3/envs/textS/lib/http/client.py?line=457'>458</a>\u001b[0m b \u001b[39m=\u001b[39m \u001b[39mbytearray\u001b[39m(amt)\n\u001b[1;32m--> <a href='file:///c%3A/Users/HP/Anaconda3/envs/textS/lib/http/client.py?line=458'>459</a>\u001b[0m n \u001b[39m=\u001b[39m \u001b[39mself\u001b[39;49m\u001b[39m.\u001b[39;49mreadinto(b)\n\u001b[0;32m    <a href='file:///c%3A/Users/HP/Anaconda3/envs/textS/lib/http/client.py?line=459'>460</a>\u001b[0m \u001b[39mreturn\u001b[39;00m \u001b[39mmemoryview\u001b[39m(b)[:n]\u001b[39m.\u001b[39mtobytes()\n",
      "File \u001b[1;32m~\\Anaconda3\\envs\\textS\\lib\\http\\client.py:503\u001b[0m, in \u001b[0;36mHTTPResponse.readinto\u001b[1;34m(self, b)\u001b[0m\n\u001b[0;32m    <a href='file:///c%3A/Users/HP/Anaconda3/envs/textS/lib/http/client.py?line=499'>500</a>\u001b[0m \u001b[39m# we do not use _safe_read() here because this may be a .will_close\u001b[39;00m\n\u001b[0;32m    <a href='file:///c%3A/Users/HP/Anaconda3/envs/textS/lib/http/client.py?line=500'>501</a>\u001b[0m \u001b[39m# connection, and the user is reading more bytes than will be provided\u001b[39;00m\n\u001b[0;32m    <a href='file:///c%3A/Users/HP/Anaconda3/envs/textS/lib/http/client.py?line=501'>502</a>\u001b[0m \u001b[39m# (for example, reading in 1k chunks)\u001b[39;00m\n\u001b[1;32m--> <a href='file:///c%3A/Users/HP/Anaconda3/envs/textS/lib/http/client.py?line=502'>503</a>\u001b[0m n \u001b[39m=\u001b[39m \u001b[39mself\u001b[39;49m\u001b[39m.\u001b[39;49mfp\u001b[39m.\u001b[39;49mreadinto(b)\n\u001b[0;32m    <a href='file:///c%3A/Users/HP/Anaconda3/envs/textS/lib/http/client.py?line=503'>504</a>\u001b[0m \u001b[39mif\u001b[39;00m \u001b[39mnot\u001b[39;00m n \u001b[39mand\u001b[39;00m b:\n\u001b[0;32m    <a href='file:///c%3A/Users/HP/Anaconda3/envs/textS/lib/http/client.py?line=504'>505</a>\u001b[0m     \u001b[39m# Ideally, we would raise IncompleteRead if the content-length\u001b[39;00m\n\u001b[0;32m    <a href='file:///c%3A/Users/HP/Anaconda3/envs/textS/lib/http/client.py?line=505'>506</a>\u001b[0m     \u001b[39m# wasn't satisfied, but it might break compatibility.\u001b[39;00m\n",
      "File \u001b[1;32m~\\Anaconda3\\envs\\textS\\lib\\socket.py:669\u001b[0m, in \u001b[0;36mSocketIO.readinto\u001b[1;34m(self, b)\u001b[0m\n\u001b[0;32m    <a href='file:///c%3A/Users/HP/Anaconda3/envs/textS/lib/socket.py?line=667'>668</a>\u001b[0m \u001b[39mtry\u001b[39;00m:\n\u001b[1;32m--> <a href='file:///c%3A/Users/HP/Anaconda3/envs/textS/lib/socket.py?line=668'>669</a>\u001b[0m     \u001b[39mreturn\u001b[39;00m \u001b[39mself\u001b[39;49m\u001b[39m.\u001b[39;49m_sock\u001b[39m.\u001b[39;49mrecv_into(b)\n\u001b[0;32m    <a href='file:///c%3A/Users/HP/Anaconda3/envs/textS/lib/socket.py?line=669'>670</a>\u001b[0m \u001b[39mexcept\u001b[39;00m timeout:\n",
      "File \u001b[1;32m~\\Anaconda3\\envs\\textS\\lib\\ssl.py:1241\u001b[0m, in \u001b[0;36mSSLSocket.recv_into\u001b[1;34m(self, buffer, nbytes, flags)\u001b[0m\n\u001b[0;32m   <a href='file:///c%3A/Users/HP/Anaconda3/envs/textS/lib/ssl.py?line=1237'>1238</a>\u001b[0m         \u001b[39mraise\u001b[39;00m \u001b[39mValueError\u001b[39;00m(\n\u001b[0;32m   <a href='file:///c%3A/Users/HP/Anaconda3/envs/textS/lib/ssl.py?line=1238'>1239</a>\u001b[0m           \u001b[39m\"\u001b[39m\u001b[39mnon-zero flags not allowed in calls to recv_into() on \u001b[39m\u001b[39m%s\u001b[39;00m\u001b[39m\"\u001b[39m \u001b[39m%\u001b[39m\n\u001b[0;32m   <a href='file:///c%3A/Users/HP/Anaconda3/envs/textS/lib/ssl.py?line=1239'>1240</a>\u001b[0m           \u001b[39mself\u001b[39m\u001b[39m.\u001b[39m\u001b[39m__class__\u001b[39m)\n\u001b[1;32m-> <a href='file:///c%3A/Users/HP/Anaconda3/envs/textS/lib/ssl.py?line=1240'>1241</a>\u001b[0m     \u001b[39mreturn\u001b[39;00m \u001b[39mself\u001b[39;49m\u001b[39m.\u001b[39;49mread(nbytes, buffer)\n\u001b[0;32m   <a href='file:///c%3A/Users/HP/Anaconda3/envs/textS/lib/ssl.py?line=1241'>1242</a>\u001b[0m \u001b[39melse\u001b[39;00m:\n",
      "File \u001b[1;32m~\\Anaconda3\\envs\\textS\\lib\\ssl.py:1099\u001b[0m, in \u001b[0;36mSSLSocket.read\u001b[1;34m(self, len, buffer)\u001b[0m\n\u001b[0;32m   <a href='file:///c%3A/Users/HP/Anaconda3/envs/textS/lib/ssl.py?line=1097'>1098</a>\u001b[0m \u001b[39mif\u001b[39;00m buffer \u001b[39mis\u001b[39;00m \u001b[39mnot\u001b[39;00m \u001b[39mNone\u001b[39;00m:\n\u001b[1;32m-> <a href='file:///c%3A/Users/HP/Anaconda3/envs/textS/lib/ssl.py?line=1098'>1099</a>\u001b[0m     \u001b[39mreturn\u001b[39;00m \u001b[39mself\u001b[39;49m\u001b[39m.\u001b[39;49m_sslobj\u001b[39m.\u001b[39;49mread(\u001b[39mlen\u001b[39;49m, buffer)\n\u001b[0;32m   <a href='file:///c%3A/Users/HP/Anaconda3/envs/textS/lib/ssl.py?line=1099'>1100</a>\u001b[0m \u001b[39melse\u001b[39;00m:\n",
      "\u001b[1;31mConnectionResetError\u001b[0m: [WinError 10054] An existing connection was forcibly closed by the remote host",
      "\nDuring handling of the above exception, another exception occurred:\n",
      "\u001b[1;31mProtocolError\u001b[0m                             Traceback (most recent call last)",
      "File \u001b[1;32m~\\Anaconda3\\envs\\textS\\lib\\site-packages\\requests\\models.py:816\u001b[0m, in \u001b[0;36mResponse.iter_content.<locals>.generate\u001b[1;34m()\u001b[0m\n\u001b[0;32m    <a href='file:///c%3A/Users/HP/Anaconda3/envs/textS/lib/site-packages/requests/models.py?line=814'>815</a>\u001b[0m \u001b[39mtry\u001b[39;00m:\n\u001b[1;32m--> <a href='file:///c%3A/Users/HP/Anaconda3/envs/textS/lib/site-packages/requests/models.py?line=815'>816</a>\u001b[0m     \u001b[39myield from\u001b[39;00m \u001b[39mself\u001b[39m\u001b[39m.\u001b[39mraw\u001b[39m.\u001b[39mstream(chunk_size, decode_content\u001b[39m=\u001b[39m\u001b[39mTrue\u001b[39;00m)\n\u001b[0;32m    <a href='file:///c%3A/Users/HP/Anaconda3/envs/textS/lib/site-packages/requests/models.py?line=816'>817</a>\u001b[0m \u001b[39mexcept\u001b[39;00m ProtocolError \u001b[39mas\u001b[39;00m e:\n",
      "File \u001b[1;32m~\\Anaconda3\\envs\\textS\\lib\\site-packages\\urllib3\\response.py:628\u001b[0m, in \u001b[0;36mHTTPResponse.stream\u001b[1;34m(self, amt, decode_content)\u001b[0m\n\u001b[0;32m    <a href='file:///c%3A/Users/HP/Anaconda3/envs/textS/lib/site-packages/urllib3/response.py?line=626'>627</a>\u001b[0m \u001b[39mwhile\u001b[39;00m \u001b[39mnot\u001b[39;00m is_fp_closed(\u001b[39mself\u001b[39m\u001b[39m.\u001b[39m_fp):\n\u001b[1;32m--> <a href='file:///c%3A/Users/HP/Anaconda3/envs/textS/lib/site-packages/urllib3/response.py?line=627'>628</a>\u001b[0m     data \u001b[39m=\u001b[39m \u001b[39mself\u001b[39;49m\u001b[39m.\u001b[39;49mread(amt\u001b[39m=\u001b[39;49mamt, decode_content\u001b[39m=\u001b[39;49mdecode_content)\n\u001b[0;32m    <a href='file:///c%3A/Users/HP/Anaconda3/envs/textS/lib/site-packages/urllib3/response.py?line=629'>630</a>\u001b[0m     \u001b[39mif\u001b[39;00m data:\n",
      "File \u001b[1;32m~\\Anaconda3\\envs\\textS\\lib\\site-packages\\urllib3\\response.py:593\u001b[0m, in \u001b[0;36mHTTPResponse.read\u001b[1;34m(self, amt, decode_content, cache_content)\u001b[0m\n\u001b[0;32m    <a href='file:///c%3A/Users/HP/Anaconda3/envs/textS/lib/site-packages/urllib3/response.py?line=583'>584</a>\u001b[0m             \u001b[39mif\u001b[39;00m \u001b[39mself\u001b[39m\u001b[39m.\u001b[39menforce_content_length \u001b[39mand\u001b[39;00m \u001b[39mself\u001b[39m\u001b[39m.\u001b[39mlength_remaining \u001b[39mnot\u001b[39;00m \u001b[39min\u001b[39;00m (\n\u001b[0;32m    <a href='file:///c%3A/Users/HP/Anaconda3/envs/textS/lib/site-packages/urllib3/response.py?line=584'>585</a>\u001b[0m                 \u001b[39m0\u001b[39m,\n\u001b[0;32m    <a href='file:///c%3A/Users/HP/Anaconda3/envs/textS/lib/site-packages/urllib3/response.py?line=585'>586</a>\u001b[0m                 \u001b[39mNone\u001b[39;00m,\n\u001b[1;32m   (...)\u001b[0m\n\u001b[0;32m    <a href='file:///c%3A/Users/HP/Anaconda3/envs/textS/lib/site-packages/urllib3/response.py?line=590'>591</a>\u001b[0m                 \u001b[39m# raised during streaming, so all calls with incorrect\u001b[39;00m\n\u001b[0;32m    <a href='file:///c%3A/Users/HP/Anaconda3/envs/textS/lib/site-packages/urllib3/response.py?line=591'>592</a>\u001b[0m                 \u001b[39m# Content-Length are caught.\u001b[39;00m\n\u001b[1;32m--> <a href='file:///c%3A/Users/HP/Anaconda3/envs/textS/lib/site-packages/urllib3/response.py?line=592'>593</a>\u001b[0m                 \u001b[39mraise\u001b[39;00m IncompleteRead(\u001b[39mself\u001b[39m\u001b[39m.\u001b[39m_fp_bytes_read, \u001b[39mself\u001b[39m\u001b[39m.\u001b[39mlength_remaining)\n\u001b[0;32m    <a href='file:///c%3A/Users/HP/Anaconda3/envs/textS/lib/site-packages/urllib3/response.py?line=594'>595</a>\u001b[0m \u001b[39mif\u001b[39;00m data:\n",
      "File \u001b[1;32m~\\Anaconda3\\envs\\textS\\lib\\contextlib.py:131\u001b[0m, in \u001b[0;36m_GeneratorContextManager.__exit__\u001b[1;34m(self, type, value, traceback)\u001b[0m\n\u001b[0;32m    <a href='file:///c%3A/Users/HP/Anaconda3/envs/textS/lib/contextlib.py?line=129'>130</a>\u001b[0m \u001b[39mtry\u001b[39;00m:\n\u001b[1;32m--> <a href='file:///c%3A/Users/HP/Anaconda3/envs/textS/lib/contextlib.py?line=130'>131</a>\u001b[0m     \u001b[39mself\u001b[39;49m\u001b[39m.\u001b[39;49mgen\u001b[39m.\u001b[39;49mthrow(\u001b[39mtype\u001b[39;49m, value, traceback)\n\u001b[0;32m    <a href='file:///c%3A/Users/HP/Anaconda3/envs/textS/lib/contextlib.py?line=131'>132</a>\u001b[0m \u001b[39mexcept\u001b[39;00m \u001b[39mStopIteration\u001b[39;00m \u001b[39mas\u001b[39;00m exc:\n\u001b[0;32m    <a href='file:///c%3A/Users/HP/Anaconda3/envs/textS/lib/contextlib.py?line=132'>133</a>\u001b[0m     \u001b[39m# Suppress StopIteration *unless* it's the same exception that\u001b[39;00m\n\u001b[0;32m    <a href='file:///c%3A/Users/HP/Anaconda3/envs/textS/lib/contextlib.py?line=133'>134</a>\u001b[0m     \u001b[39m# was passed to throw().  This prevents a StopIteration\u001b[39;00m\n\u001b[0;32m    <a href='file:///c%3A/Users/HP/Anaconda3/envs/textS/lib/contextlib.py?line=134'>135</a>\u001b[0m     \u001b[39m# raised inside the \"with\" statement from being suppressed.\u001b[39;00m\n",
      "File \u001b[1;32m~\\Anaconda3\\envs\\textS\\lib\\site-packages\\urllib3\\response.py:461\u001b[0m, in \u001b[0;36mHTTPResponse._error_catcher\u001b[1;34m(self)\u001b[0m\n\u001b[0;32m    <a href='file:///c%3A/Users/HP/Anaconda3/envs/textS/lib/site-packages/urllib3/response.py?line=458'>459</a>\u001b[0m \u001b[39mexcept\u001b[39;00m (HTTPException, SocketError) \u001b[39mas\u001b[39;00m e:\n\u001b[0;32m    <a href='file:///c%3A/Users/HP/Anaconda3/envs/textS/lib/site-packages/urllib3/response.py?line=459'>460</a>\u001b[0m     \u001b[39m# This includes IncompleteRead.\u001b[39;00m\n\u001b[1;32m--> <a href='file:///c%3A/Users/HP/Anaconda3/envs/textS/lib/site-packages/urllib3/response.py?line=460'>461</a>\u001b[0m     \u001b[39mraise\u001b[39;00m ProtocolError(\u001b[39m\"\u001b[39m\u001b[39mConnection broken: \u001b[39m\u001b[39m%r\u001b[39;00m\u001b[39m\"\u001b[39m \u001b[39m%\u001b[39m e, e)\n\u001b[0;32m    <a href='file:///c%3A/Users/HP/Anaconda3/envs/textS/lib/site-packages/urllib3/response.py?line=462'>463</a>\u001b[0m \u001b[39m# If no exception is thrown, we should avoid cleaning up\u001b[39;00m\n\u001b[0;32m    <a href='file:///c%3A/Users/HP/Anaconda3/envs/textS/lib/site-packages/urllib3/response.py?line=463'>464</a>\u001b[0m \u001b[39m# unnecessarily.\u001b[39;00m\n",
      "\u001b[1;31mProtocolError\u001b[0m: (\"Connection broken: ConnectionResetError(10054, 'An existing connection was forcibly closed by the remote host', None, 10054, None)\", ConnectionResetError(10054, 'An existing connection was forcibly closed by the remote host', None, 10054, None))",
      "\nDuring handling of the above exception, another exception occurred:\n",
      "\u001b[1;31mChunkedEncodingError\u001b[0m                      Traceback (most recent call last)",
      "Cell \u001b[1;32mIn[36], line 7\u001b[0m\n\u001b[0;32m      5\u001b[0m     model_trainer_config\u001b[38;5;241m.\u001b[39mtrain()\n\u001b[0;32m      6\u001b[0m \u001b[38;5;28;01mexcept\u001b[39;00m \u001b[38;5;167;01mException\u001b[39;00m \u001b[38;5;28;01mas\u001b[39;00m e:\n\u001b[1;32m----> 7\u001b[0m     \u001b[38;5;28;01mraise\u001b[39;00m e\n",
      "Cell \u001b[1;32mIn[36], line 5\u001b[0m\n\u001b[0;32m      3\u001b[0m     model_trainer_config \u001b[38;5;241m=\u001b[39m config\u001b[38;5;241m.\u001b[39mget_model_trainer_config()\n\u001b[0;32m      4\u001b[0m     model_trainer_config \u001b[38;5;241m=\u001b[39m ModelTrainer(config\u001b[38;5;241m=\u001b[39mmodel_trainer_config)\n\u001b[1;32m----> 5\u001b[0m     \u001b[43mmodel_trainer_config\u001b[49m\u001b[38;5;241;43m.\u001b[39;49m\u001b[43mtrain\u001b[49m\u001b[43m(\u001b[49m\u001b[43m)\u001b[49m\n\u001b[0;32m      6\u001b[0m \u001b[38;5;28;01mexcept\u001b[39;00m \u001b[38;5;167;01mException\u001b[39;00m \u001b[38;5;28;01mas\u001b[39;00m e:\n\u001b[0;32m      7\u001b[0m     \u001b[38;5;28;01mraise\u001b[39;00m e\n",
      "Cell \u001b[1;32mIn[33], line 10\u001b[0m, in \u001b[0;36mModelTrainer.train\u001b[1;34m(self)\u001b[0m\n\u001b[0;32m      8\u001b[0m device \u001b[38;5;241m=\u001b[39m \u001b[38;5;124m\"\u001b[39m\u001b[38;5;124mcuda\u001b[39m\u001b[38;5;124m\"\u001b[39m \u001b[38;5;28;01mif\u001b[39;00m torch\u001b[38;5;241m.\u001b[39mcuda\u001b[38;5;241m.\u001b[39mis_available() \u001b[38;5;28;01melse\u001b[39;00m \u001b[38;5;124m\"\u001b[39m\u001b[38;5;124mcpu\u001b[39m\u001b[38;5;124m\"\u001b[39m\n\u001b[0;32m      9\u001b[0m tokenizer \u001b[38;5;241m=\u001b[39m AutoTokenizer\u001b[38;5;241m.\u001b[39mfrom_pretrained(\u001b[38;5;28mself\u001b[39m\u001b[38;5;241m.\u001b[39mconfig\u001b[38;5;241m.\u001b[39mmodel_ckpt)\n\u001b[1;32m---> 10\u001b[0m model_pegasus \u001b[38;5;241m=\u001b[39m \u001b[43mAutoModelForSeq2SeqLM\u001b[49m\u001b[38;5;241;43m.\u001b[39;49m\u001b[43mfrom_pretrained\u001b[49m\u001b[43m(\u001b[49m\u001b[38;5;28;43mself\u001b[39;49m\u001b[38;5;241;43m.\u001b[39;49m\u001b[43mconfig\u001b[49m\u001b[38;5;241;43m.\u001b[39;49m\u001b[43mmodel_ckpt\u001b[49m\u001b[43m)\u001b[49m\u001b[38;5;241m.\u001b[39mto(device)\n\u001b[0;32m     11\u001b[0m seq2seq_data_collator \u001b[38;5;241m=\u001b[39m DataCollatorForSeq2Seq(tokenizer, model\u001b[38;5;241m=\u001b[39mmodel_pegasus)\n\u001b[0;32m     13\u001b[0m \u001b[38;5;66;03m#loading data \u001b[39;00m\n",
      "File \u001b[1;32m~\\Anaconda3\\envs\\textS\\lib\\site-packages\\transformers\\models\\auto\\auto_factory.py:467\u001b[0m, in \u001b[0;36m_BaseAutoModelClass.from_pretrained\u001b[1;34m(cls, pretrained_model_name_or_path, *model_args, **kwargs)\u001b[0m\n\u001b[0;32m    <a href='file:///c%3A/Users/HP/Anaconda3/envs/textS/lib/site-packages/transformers/models/auto/auto_factory.py?line=464'>465</a>\u001b[0m \u001b[39melif\u001b[39;00m \u001b[39mtype\u001b[39m(config) \u001b[39min\u001b[39;00m \u001b[39mcls\u001b[39m\u001b[39m.\u001b[39m_model_mapping\u001b[39m.\u001b[39mkeys():\n\u001b[0;32m    <a href='file:///c%3A/Users/HP/Anaconda3/envs/textS/lib/site-packages/transformers/models/auto/auto_factory.py?line=465'>466</a>\u001b[0m     model_class \u001b[39m=\u001b[39m _get_model_class(config, \u001b[39mcls\u001b[39m\u001b[39m.\u001b[39m_model_mapping)\n\u001b[1;32m--> <a href='file:///c%3A/Users/HP/Anaconda3/envs/textS/lib/site-packages/transformers/models/auto/auto_factory.py?line=466'>467</a>\u001b[0m     \u001b[39mreturn\u001b[39;00m model_class\u001b[39m.\u001b[39;49mfrom_pretrained(\n\u001b[0;32m    <a href='file:///c%3A/Users/HP/Anaconda3/envs/textS/lib/site-packages/transformers/models/auto/auto_factory.py?line=467'>468</a>\u001b[0m         pretrained_model_name_or_path, \u001b[39m*\u001b[39;49mmodel_args, config\u001b[39m=\u001b[39;49mconfig, \u001b[39m*\u001b[39;49m\u001b[39m*\u001b[39;49mhub_kwargs, \u001b[39m*\u001b[39;49m\u001b[39m*\u001b[39;49mkwargs\n\u001b[0;32m    <a href='file:///c%3A/Users/HP/Anaconda3/envs/textS/lib/site-packages/transformers/models/auto/auto_factory.py?line=468'>469</a>\u001b[0m     )\n\u001b[0;32m    <a href='file:///c%3A/Users/HP/Anaconda3/envs/textS/lib/site-packages/transformers/models/auto/auto_factory.py?line=469'>470</a>\u001b[0m \u001b[39mraise\u001b[39;00m \u001b[39mValueError\u001b[39;00m(\n\u001b[0;32m    <a href='file:///c%3A/Users/HP/Anaconda3/envs/textS/lib/site-packages/transformers/models/auto/auto_factory.py?line=470'>471</a>\u001b[0m     \u001b[39mf\u001b[39m\u001b[39m\"\u001b[39m\u001b[39mUnrecognized configuration class \u001b[39m\u001b[39m{\u001b[39;00mconfig\u001b[39m.\u001b[39m\u001b[39m__class__\u001b[39m\u001b[39m}\u001b[39;00m\u001b[39m for this kind of AutoModel: \u001b[39m\u001b[39m{\u001b[39;00m\u001b[39mcls\u001b[39m\u001b[39m.\u001b[39m\u001b[39m__name__\u001b[39m\u001b[39m}\u001b[39;00m\u001b[39m.\u001b[39m\u001b[39m\\n\u001b[39;00m\u001b[39m\"\u001b[39m\n\u001b[0;32m    <a href='file:///c%3A/Users/HP/Anaconda3/envs/textS/lib/site-packages/transformers/models/auto/auto_factory.py?line=471'>472</a>\u001b[0m     \u001b[39mf\u001b[39m\u001b[39m\"\u001b[39m\u001b[39mModel type should be one of \u001b[39m\u001b[39m{\u001b[39;00m\u001b[39m'\u001b[39m\u001b[39m, \u001b[39m\u001b[39m'\u001b[39m\u001b[39m.\u001b[39mjoin(c\u001b[39m.\u001b[39m\u001b[39m__name__\u001b[39m\u001b[39m \u001b[39m\u001b[39mfor\u001b[39;00m\u001b[39m \u001b[39mc\u001b[39m \u001b[39m\u001b[39min\u001b[39;00m\u001b[39m \u001b[39m\u001b[39mcls\u001b[39m\u001b[39m.\u001b[39m_model_mapping\u001b[39m.\u001b[39mkeys())\u001b[39m}\u001b[39;00m\u001b[39m.\u001b[39m\u001b[39m\"\u001b[39m\n\u001b[0;32m    <a href='file:///c%3A/Users/HP/Anaconda3/envs/textS/lib/site-packages/transformers/models/auto/auto_factory.py?line=472'>473</a>\u001b[0m )\n",
      "File \u001b[1;32m~\\Anaconda3\\envs\\textS\\lib\\site-packages\\transformers\\modeling_utils.py:2432\u001b[0m, in \u001b[0;36mPreTrainedModel.from_pretrained\u001b[1;34m(cls, pretrained_model_name_or_path, *model_args, **kwargs)\u001b[0m\n\u001b[0;32m   <a href='file:///c%3A/Users/HP/Anaconda3/envs/textS/lib/site-packages/transformers/modeling_utils.py?line=2416'>2417</a>\u001b[0m \u001b[39mtry\u001b[39;00m:\n\u001b[0;32m   <a href='file:///c%3A/Users/HP/Anaconda3/envs/textS/lib/site-packages/transformers/modeling_utils.py?line=2417'>2418</a>\u001b[0m     \u001b[39m# Load from URL or cache if already cached\u001b[39;00m\n\u001b[0;32m   <a href='file:///c%3A/Users/HP/Anaconda3/envs/textS/lib/site-packages/transformers/modeling_utils.py?line=2418'>2419</a>\u001b[0m     cached_file_kwargs \u001b[39m=\u001b[39m {\n\u001b[0;32m   <a href='file:///c%3A/Users/HP/Anaconda3/envs/textS/lib/site-packages/transformers/modeling_utils.py?line=2419'>2420</a>\u001b[0m         \u001b[39m\"\u001b[39m\u001b[39mcache_dir\u001b[39m\u001b[39m\"\u001b[39m: cache_dir,\n\u001b[0;32m   <a href='file:///c%3A/Users/HP/Anaconda3/envs/textS/lib/site-packages/transformers/modeling_utils.py?line=2420'>2421</a>\u001b[0m         \u001b[39m\"\u001b[39m\u001b[39mforce_download\u001b[39m\u001b[39m\"\u001b[39m: force_download,\n\u001b[1;32m   (...)\u001b[0m\n\u001b[0;32m   <a href='file:///c%3A/Users/HP/Anaconda3/envs/textS/lib/site-packages/transformers/modeling_utils.py?line=2429'>2430</a>\u001b[0m         \u001b[39m\"\u001b[39m\u001b[39m_commit_hash\u001b[39m\u001b[39m\"\u001b[39m: commit_hash,\n\u001b[0;32m   <a href='file:///c%3A/Users/HP/Anaconda3/envs/textS/lib/site-packages/transformers/modeling_utils.py?line=2430'>2431</a>\u001b[0m     }\n\u001b[1;32m-> <a href='file:///c%3A/Users/HP/Anaconda3/envs/textS/lib/site-packages/transformers/modeling_utils.py?line=2431'>2432</a>\u001b[0m     resolved_archive_file \u001b[39m=\u001b[39m cached_file(pretrained_model_name_or_path, filename, \u001b[39m*\u001b[39;49m\u001b[39m*\u001b[39;49mcached_file_kwargs)\n\u001b[0;32m   <a href='file:///c%3A/Users/HP/Anaconda3/envs/textS/lib/site-packages/transformers/modeling_utils.py?line=2433'>2434</a>\u001b[0m     \u001b[39m# Since we set _raise_exceptions_for_missing_entries=False, we don't get an exception but a None\u001b[39;00m\n\u001b[0;32m   <a href='file:///c%3A/Users/HP/Anaconda3/envs/textS/lib/site-packages/transformers/modeling_utils.py?line=2434'>2435</a>\u001b[0m     \u001b[39m# result when internet is up, the repo and revision exist, but the file does not.\u001b[39;00m\n\u001b[0;32m   <a href='file:///c%3A/Users/HP/Anaconda3/envs/textS/lib/site-packages/transformers/modeling_utils.py?line=2435'>2436</a>\u001b[0m     \u001b[39mif\u001b[39;00m resolved_archive_file \u001b[39mis\u001b[39;00m \u001b[39mNone\u001b[39;00m \u001b[39mand\u001b[39;00m filename \u001b[39m==\u001b[39m _add_variant(SAFE_WEIGHTS_NAME, variant):\n\u001b[0;32m   <a href='file:///c%3A/Users/HP/Anaconda3/envs/textS/lib/site-packages/transformers/modeling_utils.py?line=2436'>2437</a>\u001b[0m         \u001b[39m# Maybe the checkpoint is sharded, we try to grab the index name in this case.\u001b[39;00m\n",
      "File \u001b[1;32m~\\Anaconda3\\envs\\textS\\lib\\site-packages\\transformers\\utils\\hub.py:417\u001b[0m, in \u001b[0;36mcached_file\u001b[1;34m(path_or_repo_id, filename, cache_dir, force_download, resume_download, proxies, use_auth_token, revision, local_files_only, subfolder, repo_type, user_agent, _raise_exceptions_for_missing_entries, _raise_exceptions_for_connection_errors, _commit_hash)\u001b[0m\n\u001b[0;32m    <a href='file:///c%3A/Users/HP/Anaconda3/envs/textS/lib/site-packages/transformers/utils/hub.py?line=413'>414</a>\u001b[0m user_agent \u001b[39m=\u001b[39m http_user_agent(user_agent)\n\u001b[0;32m    <a href='file:///c%3A/Users/HP/Anaconda3/envs/textS/lib/site-packages/transformers/utils/hub.py?line=414'>415</a>\u001b[0m \u001b[39mtry\u001b[39;00m:\n\u001b[0;32m    <a href='file:///c%3A/Users/HP/Anaconda3/envs/textS/lib/site-packages/transformers/utils/hub.py?line=415'>416</a>\u001b[0m     \u001b[39m# Load from URL or cache if already cached\u001b[39;00m\n\u001b[1;32m--> <a href='file:///c%3A/Users/HP/Anaconda3/envs/textS/lib/site-packages/transformers/utils/hub.py?line=416'>417</a>\u001b[0m     resolved_file \u001b[39m=\u001b[39m hf_hub_download(\n\u001b[0;32m    <a href='file:///c%3A/Users/HP/Anaconda3/envs/textS/lib/site-packages/transformers/utils/hub.py?line=417'>418</a>\u001b[0m         path_or_repo_id,\n\u001b[0;32m    <a href='file:///c%3A/Users/HP/Anaconda3/envs/textS/lib/site-packages/transformers/utils/hub.py?line=418'>419</a>\u001b[0m         filename,\n\u001b[0;32m    <a href='file:///c%3A/Users/HP/Anaconda3/envs/textS/lib/site-packages/transformers/utils/hub.py?line=419'>420</a>\u001b[0m         subfolder\u001b[39m=\u001b[39;49m\u001b[39mNone\u001b[39;49;00m \u001b[39mif\u001b[39;49;00m \u001b[39mlen\u001b[39;49m(subfolder) \u001b[39m==\u001b[39;49m \u001b[39m0\u001b[39;49m \u001b[39melse\u001b[39;49;00m subfolder,\n\u001b[0;32m    <a href='file:///c%3A/Users/HP/Anaconda3/envs/textS/lib/site-packages/transformers/utils/hub.py?line=420'>421</a>\u001b[0m         repo_type\u001b[39m=\u001b[39;49mrepo_type,\n\u001b[0;32m    <a href='file:///c%3A/Users/HP/Anaconda3/envs/textS/lib/site-packages/transformers/utils/hub.py?line=421'>422</a>\u001b[0m         revision\u001b[39m=\u001b[39;49mrevision,\n\u001b[0;32m    <a href='file:///c%3A/Users/HP/Anaconda3/envs/textS/lib/site-packages/transformers/utils/hub.py?line=422'>423</a>\u001b[0m         cache_dir\u001b[39m=\u001b[39;49mcache_dir,\n\u001b[0;32m    <a href='file:///c%3A/Users/HP/Anaconda3/envs/textS/lib/site-packages/transformers/utils/hub.py?line=423'>424</a>\u001b[0m         user_agent\u001b[39m=\u001b[39;49muser_agent,\n\u001b[0;32m    <a href='file:///c%3A/Users/HP/Anaconda3/envs/textS/lib/site-packages/transformers/utils/hub.py?line=424'>425</a>\u001b[0m         force_download\u001b[39m=\u001b[39;49mforce_download,\n\u001b[0;32m    <a href='file:///c%3A/Users/HP/Anaconda3/envs/textS/lib/site-packages/transformers/utils/hub.py?line=425'>426</a>\u001b[0m         proxies\u001b[39m=\u001b[39;49mproxies,\n\u001b[0;32m    <a href='file:///c%3A/Users/HP/Anaconda3/envs/textS/lib/site-packages/transformers/utils/hub.py?line=426'>427</a>\u001b[0m         resume_download\u001b[39m=\u001b[39;49mresume_download,\n\u001b[0;32m    <a href='file:///c%3A/Users/HP/Anaconda3/envs/textS/lib/site-packages/transformers/utils/hub.py?line=427'>428</a>\u001b[0m         use_auth_token\u001b[39m=\u001b[39;49muse_auth_token,\n\u001b[0;32m    <a href='file:///c%3A/Users/HP/Anaconda3/envs/textS/lib/site-packages/transformers/utils/hub.py?line=428'>429</a>\u001b[0m         local_files_only\u001b[39m=\u001b[39;49mlocal_files_only,\n\u001b[0;32m    <a href='file:///c%3A/Users/HP/Anaconda3/envs/textS/lib/site-packages/transformers/utils/hub.py?line=429'>430</a>\u001b[0m     )\n\u001b[0;32m    <a href='file:///c%3A/Users/HP/Anaconda3/envs/textS/lib/site-packages/transformers/utils/hub.py?line=431'>432</a>\u001b[0m \u001b[39mexcept\u001b[39;00m RepositoryNotFoundError:\n\u001b[0;32m    <a href='file:///c%3A/Users/HP/Anaconda3/envs/textS/lib/site-packages/transformers/utils/hub.py?line=432'>433</a>\u001b[0m     \u001b[39mraise\u001b[39;00m \u001b[39mEnvironmentError\u001b[39;00m(\n\u001b[0;32m    <a href='file:///c%3A/Users/HP/Anaconda3/envs/textS/lib/site-packages/transformers/utils/hub.py?line=433'>434</a>\u001b[0m         \u001b[39mf\u001b[39m\u001b[39m\"\u001b[39m\u001b[39m{\u001b[39;00mpath_or_repo_id\u001b[39m}\u001b[39;00m\u001b[39m is not a local folder and is not a valid model identifier \u001b[39m\u001b[39m\"\u001b[39m\n\u001b[0;32m    <a href='file:///c%3A/Users/HP/Anaconda3/envs/textS/lib/site-packages/transformers/utils/hub.py?line=434'>435</a>\u001b[0m         \u001b[39m\"\u001b[39m\u001b[39mlisted on \u001b[39m\u001b[39m'\u001b[39m\u001b[39mhttps://huggingface.co/models\u001b[39m\u001b[39m'\u001b[39m\u001b[39m\\n\u001b[39;00m\u001b[39mIf this is a private repository, make sure to \u001b[39m\u001b[39m\"\u001b[39m\n\u001b[0;32m    <a href='file:///c%3A/Users/HP/Anaconda3/envs/textS/lib/site-packages/transformers/utils/hub.py?line=435'>436</a>\u001b[0m         \u001b[39m\"\u001b[39m\u001b[39mpass a token having permission to this repo with `use_auth_token` or log in with \u001b[39m\u001b[39m\"\u001b[39m\n\u001b[0;32m    <a href='file:///c%3A/Users/HP/Anaconda3/envs/textS/lib/site-packages/transformers/utils/hub.py?line=436'>437</a>\u001b[0m         \u001b[39m\"\u001b[39m\u001b[39m`huggingface-cli login` and pass `use_auth_token=True`.\u001b[39m\u001b[39m\"\u001b[39m\n\u001b[0;32m    <a href='file:///c%3A/Users/HP/Anaconda3/envs/textS/lib/site-packages/transformers/utils/hub.py?line=437'>438</a>\u001b[0m     )\n",
      "File \u001b[1;32m~\\Anaconda3\\envs\\textS\\lib\\site-packages\\huggingface_hub\\utils\\_validators.py:118\u001b[0m, in \u001b[0;36mvalidate_hf_hub_args.<locals>._inner_fn\u001b[1;34m(*args, **kwargs)\u001b[0m\n\u001b[0;32m    <a href='file:///c%3A/Users/HP/Anaconda3/envs/textS/lib/site-packages/huggingface_hub/utils/_validators.py?line=114'>115</a>\u001b[0m \u001b[39mif\u001b[39;00m check_use_auth_token:\n\u001b[0;32m    <a href='file:///c%3A/Users/HP/Anaconda3/envs/textS/lib/site-packages/huggingface_hub/utils/_validators.py?line=115'>116</a>\u001b[0m     kwargs \u001b[39m=\u001b[39m smoothly_deprecate_use_auth_token(fn_name\u001b[39m=\u001b[39mfn\u001b[39m.\u001b[39m\u001b[39m__name__\u001b[39m, has_token\u001b[39m=\u001b[39mhas_token, kwargs\u001b[39m=\u001b[39mkwargs)\n\u001b[1;32m--> <a href='file:///c%3A/Users/HP/Anaconda3/envs/textS/lib/site-packages/huggingface_hub/utils/_validators.py?line=117'>118</a>\u001b[0m \u001b[39mreturn\u001b[39;00m fn(\u001b[39m*\u001b[39;49margs, \u001b[39m*\u001b[39;49m\u001b[39m*\u001b[39;49mkwargs)\n",
      "File \u001b[1;32m~\\Anaconda3\\envs\\textS\\lib\\site-packages\\huggingface_hub\\file_download.py:1364\u001b[0m, in \u001b[0;36mhf_hub_download\u001b[1;34m(repo_id, filename, subfolder, repo_type, revision, library_name, library_version, cache_dir, local_dir, local_dir_use_symlinks, user_agent, force_download, force_filename, proxies, etag_timeout, resume_download, token, local_files_only, legacy_cache_layout)\u001b[0m\n\u001b[0;32m   <a href='file:///c%3A/Users/HP/Anaconda3/envs/textS/lib/site-packages/huggingface_hub/file_download.py?line=1360'>1361</a>\u001b[0m \u001b[39mwith\u001b[39;00m temp_file_manager() \u001b[39mas\u001b[39;00m temp_file:\n\u001b[0;32m   <a href='file:///c%3A/Users/HP/Anaconda3/envs/textS/lib/site-packages/huggingface_hub/file_download.py?line=1361'>1362</a>\u001b[0m     logger\u001b[39m.\u001b[39minfo(\u001b[39m\"\u001b[39m\u001b[39mdownloading \u001b[39m\u001b[39m%s\u001b[39;00m\u001b[39m to \u001b[39m\u001b[39m%s\u001b[39;00m\u001b[39m\"\u001b[39m, url, temp_file\u001b[39m.\u001b[39mname)\n\u001b[1;32m-> <a href='file:///c%3A/Users/HP/Anaconda3/envs/textS/lib/site-packages/huggingface_hub/file_download.py?line=1363'>1364</a>\u001b[0m     http_get(\n\u001b[0;32m   <a href='file:///c%3A/Users/HP/Anaconda3/envs/textS/lib/site-packages/huggingface_hub/file_download.py?line=1364'>1365</a>\u001b[0m         url_to_download,\n\u001b[0;32m   <a href='file:///c%3A/Users/HP/Anaconda3/envs/textS/lib/site-packages/huggingface_hub/file_download.py?line=1365'>1366</a>\u001b[0m         temp_file,\n\u001b[0;32m   <a href='file:///c%3A/Users/HP/Anaconda3/envs/textS/lib/site-packages/huggingface_hub/file_download.py?line=1366'>1367</a>\u001b[0m         proxies\u001b[39m=\u001b[39;49mproxies,\n\u001b[0;32m   <a href='file:///c%3A/Users/HP/Anaconda3/envs/textS/lib/site-packages/huggingface_hub/file_download.py?line=1367'>1368</a>\u001b[0m         resume_size\u001b[39m=\u001b[39;49mresume_size,\n\u001b[0;32m   <a href='file:///c%3A/Users/HP/Anaconda3/envs/textS/lib/site-packages/huggingface_hub/file_download.py?line=1368'>1369</a>\u001b[0m         headers\u001b[39m=\u001b[39;49mheaders,\n\u001b[0;32m   <a href='file:///c%3A/Users/HP/Anaconda3/envs/textS/lib/site-packages/huggingface_hub/file_download.py?line=1369'>1370</a>\u001b[0m         expected_size\u001b[39m=\u001b[39;49mexpected_size,\n\u001b[0;32m   <a href='file:///c%3A/Users/HP/Anaconda3/envs/textS/lib/site-packages/huggingface_hub/file_download.py?line=1370'>1371</a>\u001b[0m     )\n\u001b[0;32m   <a href='file:///c%3A/Users/HP/Anaconda3/envs/textS/lib/site-packages/huggingface_hub/file_download.py?line=1372'>1373</a>\u001b[0m \u001b[39mif\u001b[39;00m local_dir \u001b[39mis\u001b[39;00m \u001b[39mNone\u001b[39;00m:\n\u001b[0;32m   <a href='file:///c%3A/Users/HP/Anaconda3/envs/textS/lib/site-packages/huggingface_hub/file_download.py?line=1373'>1374</a>\u001b[0m     logger\u001b[39m.\u001b[39minfo(\u001b[39mf\u001b[39m\u001b[39m\"\u001b[39m\u001b[39mStoring \u001b[39m\u001b[39m{\u001b[39;00murl\u001b[39m}\u001b[39;00m\u001b[39m in cache at \u001b[39m\u001b[39m{\u001b[39;00mblob_path\u001b[39m}\u001b[39;00m\u001b[39m\"\u001b[39m)\n",
      "File \u001b[1;32m~\\Anaconda3\\envs\\textS\\lib\\site-packages\\huggingface_hub\\file_download.py:541\u001b[0m, in \u001b[0;36mhttp_get\u001b[1;34m(url, temp_file, proxies, resume_size, headers, timeout, max_retries, expected_size)\u001b[0m\n\u001b[0;32m    <a href='file:///c%3A/Users/HP/Anaconda3/envs/textS/lib/site-packages/huggingface_hub/file_download.py?line=530'>531</a>\u001b[0m     displayed_name \u001b[39m=\u001b[39m \u001b[39mf\u001b[39m\u001b[39m\"\u001b[39m\u001b[39m(…)\u001b[39m\u001b[39m{\u001b[39;00mdisplayed_name[\u001b[39m-\u001b[39m\u001b[39m20\u001b[39m:]\u001b[39m}\u001b[39;00m\u001b[39m\"\u001b[39m\n\u001b[0;32m    <a href='file:///c%3A/Users/HP/Anaconda3/envs/textS/lib/site-packages/huggingface_hub/file_download.py?line=532'>533</a>\u001b[0m progress \u001b[39m=\u001b[39m tqdm(\n\u001b[0;32m    <a href='file:///c%3A/Users/HP/Anaconda3/envs/textS/lib/site-packages/huggingface_hub/file_download.py?line=533'>534</a>\u001b[0m     unit\u001b[39m=\u001b[39m\u001b[39m\"\u001b[39m\u001b[39mB\u001b[39m\u001b[39m\"\u001b[39m,\n\u001b[0;32m    <a href='file:///c%3A/Users/HP/Anaconda3/envs/textS/lib/site-packages/huggingface_hub/file_download.py?line=534'>535</a>\u001b[0m     unit_scale\u001b[39m=\u001b[39m\u001b[39mTrue\u001b[39;00m,\n\u001b[1;32m   (...)\u001b[0m\n\u001b[0;32m    <a href='file:///c%3A/Users/HP/Anaconda3/envs/textS/lib/site-packages/huggingface_hub/file_download.py?line=538'>539</a>\u001b[0m     disable\u001b[39m=\u001b[39m\u001b[39mbool\u001b[39m(logger\u001b[39m.\u001b[39mgetEffectiveLevel() \u001b[39m==\u001b[39m logging\u001b[39m.\u001b[39mNOTSET),\n\u001b[0;32m    <a href='file:///c%3A/Users/HP/Anaconda3/envs/textS/lib/site-packages/huggingface_hub/file_download.py?line=539'>540</a>\u001b[0m )\n\u001b[1;32m--> <a href='file:///c%3A/Users/HP/Anaconda3/envs/textS/lib/site-packages/huggingface_hub/file_download.py?line=540'>541</a>\u001b[0m \u001b[39mfor\u001b[39;00m chunk \u001b[39min\u001b[39;00m r\u001b[39m.\u001b[39miter_content(chunk_size\u001b[39m=\u001b[39m\u001b[39m10\u001b[39m \u001b[39m*\u001b[39m \u001b[39m1024\u001b[39m \u001b[39m*\u001b[39m \u001b[39m1024\u001b[39m):\n\u001b[0;32m    <a href='file:///c%3A/Users/HP/Anaconda3/envs/textS/lib/site-packages/huggingface_hub/file_download.py?line=541'>542</a>\u001b[0m     \u001b[39mif\u001b[39;00m chunk:  \u001b[39m# filter out keep-alive new chunks\u001b[39;00m\n\u001b[0;32m    <a href='file:///c%3A/Users/HP/Anaconda3/envs/textS/lib/site-packages/huggingface_hub/file_download.py?line=542'>543</a>\u001b[0m         progress\u001b[39m.\u001b[39mupdate(\u001b[39mlen\u001b[39m(chunk))\n",
      "File \u001b[1;32m~\\Anaconda3\\envs\\textS\\lib\\site-packages\\requests\\models.py:818\u001b[0m, in \u001b[0;36mResponse.iter_content.<locals>.generate\u001b[1;34m()\u001b[0m\n\u001b[0;32m    <a href='file:///c%3A/Users/HP/Anaconda3/envs/textS/lib/site-packages/requests/models.py?line=815'>816</a>\u001b[0m     \u001b[39myield from\u001b[39;00m \u001b[39mself\u001b[39m\u001b[39m.\u001b[39mraw\u001b[39m.\u001b[39mstream(chunk_size, decode_content\u001b[39m=\u001b[39m\u001b[39mTrue\u001b[39;00m)\n\u001b[0;32m    <a href='file:///c%3A/Users/HP/Anaconda3/envs/textS/lib/site-packages/requests/models.py?line=816'>817</a>\u001b[0m \u001b[39mexcept\u001b[39;00m ProtocolError \u001b[39mas\u001b[39;00m e:\n\u001b[1;32m--> <a href='file:///c%3A/Users/HP/Anaconda3/envs/textS/lib/site-packages/requests/models.py?line=817'>818</a>\u001b[0m     \u001b[39mraise\u001b[39;00m ChunkedEncodingError(e)\n\u001b[0;32m    <a href='file:///c%3A/Users/HP/Anaconda3/envs/textS/lib/site-packages/requests/models.py?line=818'>819</a>\u001b[0m \u001b[39mexcept\u001b[39;00m DecodeError \u001b[39mas\u001b[39;00m e:\n\u001b[0;32m    <a href='file:///c%3A/Users/HP/Anaconda3/envs/textS/lib/site-packages/requests/models.py?line=819'>820</a>\u001b[0m     \u001b[39mraise\u001b[39;00m ContentDecodingError(e)\n",
      "\u001b[1;31mChunkedEncodingError\u001b[0m: (\"Connection broken: ConnectionResetError(10054, 'An existing connection was forcibly closed by the remote host', None, 10054, None)\", ConnectionResetError(10054, 'An existing connection was forcibly closed by the remote host', None, 10054, None))"
     ]
    }
   ],
   "source": [
    "try:\n",
    "    config = Configuration()\n",
    "    model_trainer_config = config.get_model_trainer_config()\n",
    "    model_trainer_config = ModelTrainer(config=model_trainer_config)\n",
    "    model_trainer_config.train()\n",
    "except Exception as e:\n",
    "    raise e\n"
   ]
  },
  {
   "cell_type": "code",
   "execution_count": null,
   "metadata": {},
   "outputs": [],
   "source": []
  },
  {
   "cell_type": "code",
   "execution_count": null,
   "metadata": {},
   "outputs": [],
   "source": []
  },
  {
   "cell_type": "code",
   "execution_count": null,
   "metadata": {},
   "outputs": [],
   "source": []
  }
 ],
 "metadata": {
  "interpreter": {
   "hash": "5e23bfdd7fb50713d0dd1124c7abe20f8297a4031069ff346663de99f3f74da7"
  },
  "kernelspec": {
   "display_name": "Python 3.8.16 ('textS')",
   "language": "python",
   "name": "python3"
  },
  "language_info": {
   "codemirror_mode": {
    "name": "ipython",
    "version": 3
   },
   "file_extension": ".py",
   "mimetype": "text/x-python",
   "name": "python",
   "nbconvert_exporter": "python",
   "pygments_lexer": "ipython3",
   "version": "3.8.16"
  },
  "orig_nbformat": 4
 },
 "nbformat": 4,
 "nbformat_minor": 2
}
